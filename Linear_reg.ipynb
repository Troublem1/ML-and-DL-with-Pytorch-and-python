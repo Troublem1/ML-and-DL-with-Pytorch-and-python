{
 "cells": [
  {
   "cell_type": "code",
   "execution_count": 211,
   "metadata": {},
   "outputs": [],
   "source": [
    "#import needed modules\n",
    "\n",
    "import torch\n",
    "import numpy as np"
   ]
  },
  {
   "cell_type": "code",
   "execution_count": 212,
   "metadata": {},
   "outputs": [],
   "source": [
    "#input(temp , rainfall , humidity)\n",
    "inputs = np.array([ [73,67,43],\n",
    "                    [91,88,64],\n",
    "                    [87,134,58],\n",
    "                    [102,43,37],\n",
    "                    [69,96,70]],  dtype='float32')"
   ]
  },
  {
   "cell_type": "code",
   "execution_count": 213,
   "metadata": {},
   "outputs": [],
   "source": [
    "#targets( apples , oranges)\n",
    "\n",
    "targets = np.array([[56,70],\n",
    "                    [81,101],\n",
    "                    [119,133],\n",
    "                    [22,37],\n",
    "                    [103,119]] , dtype='float32')"
   ]
  },
  {
   "cell_type": "code",
   "execution_count": 214,
   "metadata": {},
   "outputs": [
    {
     "data": {
      "text/plain": [
       "tensor([[ 73.,  67.,  43.],\n",
       "        [ 91.,  88.,  64.],\n",
       "        [ 87., 134.,  58.],\n",
       "        [102.,  43.,  37.],\n",
       "        [ 69.,  96.,  70.]])"
      ]
     },
     "execution_count": 214,
     "metadata": {},
     "output_type": "execute_result"
    }
   ],
   "source": [
    "#convert input and target arrays to tensors\n",
    "'''\n",
    "inputs = torch.tensor(inputs)\n",
    "targets = torch.tensor(targets)\n",
    "'''\n",
    "\n",
    "\n",
    "inputs = torch.from_numpy(inputs)\n",
    "\n",
    "targets = torch.from_numpy(targets)\n",
    "\n",
    "inputs"
   ]
  },
  {
   "cell_type": "markdown",
   "metadata": {},
   "source": [
    "# Linear Regression model from scratch"
   ]
  },
  {
   "cell_type": "code",
   "execution_count": 215,
   "metadata": {},
   "outputs": [
    {
     "name": "stdout",
     "output_type": "stream",
     "text": [
      "tensor([[0.8789, 0.7751, 0.9036],\n",
      "        [0.7219, 0.1678, 0.1189]], requires_grad=True)\n",
      "tensor([0.2075, 0.2309], requires_grad=True)\n"
     ]
    }
   ],
   "source": [
    "#set random weights and constants/bias using torch.rand\n",
    "\n",
    "beta = torch.rand(2,3 , requires_grad=True)\n",
    "const = torch.rand(2 , requires_grad=True)\n",
    "print(beta)\n",
    "print(const)"
   ]
  },
  {
   "cell_type": "markdown",
   "metadata": {},
   "source": [
    "Formular for linear_model : Input_matrix x beta_matrix.T + const_matrix"
   ]
  },
  {
   "cell_type": "code",
   "execution_count": 216,
   "metadata": {},
   "outputs": [],
   "source": [
    "#define a linear_model\n",
    "\n",
    "def linear_model(x):\n",
    "    return x @ beta.t() + const"
   ]
  },
  {
   "cell_type": "code",
   "execution_count": 217,
   "metadata": {},
   "outputs": [
    {
     "name": "stdout",
     "output_type": "stream",
     "text": [
      "tensor([[155.1545,  69.2775],\n",
      "        [206.2273,  88.2900],\n",
      "        [232.9442,  92.4068],\n",
      "        [156.6203,  85.4716],\n",
      "        [198.5127,  74.4646]], grad_fn=<AddBackward0>)\n"
     ]
    }
   ],
   "source": [
    "#Generate Predictions\n",
    "first_pred = linear_model(inputs)    #far off the actuals since our model was\n",
    "print(first_pred)                    #initialized with random weights/beta and constant/bias"
   ]
  },
  {
   "cell_type": "markdown",
   "metadata": {},
   "source": [
    "# Loss Function"
   ]
  },
  {
   "cell_type": "markdown",
   "metadata": {},
   "source": [
    "To improve the model, we evaluate how the model is performing by comparing prediction with actual targets.\n",
    "- Calculate the difference between the actual predicted.\n",
    "- Square the difference to remove all negative values\n",
    "- find the average of the elements in the resultant.\n",
    "\n",
    "The result is a single number, Mean_squarred_error ('MSE')"
   ]
  },
  {
   "cell_type": "code",
   "execution_count": 218,
   "metadata": {},
   "outputs": [],
   "source": [
    "# MSE_ LOSS \n",
    "def mse_calculator(tensor_1 , tensor_2):\n",
    "    diff= tensor_1-tensor_2\n",
    "    return torch.sum(diff* diff)/diff.numel()"
   ]
  },
  {
   "cell_type": "code",
   "execution_count": 219,
   "metadata": {},
   "outputs": [
    {
     "name": "stdout",
     "output_type": "stream",
     "text": [
      "tensor(7188.4844, grad_fn=<DivBackward0>)\n"
     ]
    }
   ],
   "source": [
    "loss = mse_calculator(first_pred , targets)\n",
    "print(loss)            #on average, each element is 61 (np.sqrt(3685)) away from the actual element"
   ]
  },
  {
   "cell_type": "markdown",
   "metadata": {},
   "source": [
    "# Compute Gradients"
   ]
  },
  {
   "cell_type": "code",
   "execution_count": 220,
   "metadata": {},
   "outputs": [],
   "source": [
    "#compute  gradients\n",
    "#loss is a function of the weights, as we change the weight the loss changes\n",
    "loss.backward()"
   ]
  },
  {
   "cell_type": "code",
   "execution_count": 221,
   "metadata": {},
   "outputs": [
    {
     "name": "stdout",
     "output_type": "stream",
     "text": [
      "tensor([[0.8789, 0.7751, 0.9036],\n",
      "        [0.7219, 0.1678, 0.1189]], requires_grad=True)\n",
      "tensor([[ 9773.7510,  9577.9551,  6110.7593],\n",
      "        [ -573.9607, -1759.5005,  -904.5890]])\n"
     ]
    }
   ],
   "source": [
    "print(beta)\n",
    "print(beta.grad)"
   ]
  },
  {
   "cell_type": "code",
   "execution_count": 222,
   "metadata": {},
   "outputs": [
    {
     "data": {
      "text/plain": [
       "tensor([[0., 0., 0.],\n",
       "        [0., 0., 0.]])"
      ]
     },
     "execution_count": 222,
     "metadata": {},
     "output_type": "execute_result"
    }
   ],
   "source": [
    "#backward computes grads and keeps adding to the grads.So, we Set gradients back to zero after first computations\n",
    "\n",
    "beta.grad.zero_()\n",
    "#const.grad.zero_()"
   ]
  },
  {
   "cell_type": "markdown",
   "metadata": {},
   "source": [
    "### Adjust Weights and biases using Gradient Descent"
   ]
  },
  {
   "cell_type": "markdown",
   "metadata": {},
   "source": [
    "lets improve our model using gradient descent optimazation algorithm using these steps\n",
    "\n",
    "- Generate predictions\n",
    "- Calculate the loss\n",
    "- Set backward on loss and Compute the gradients w.r.t to the weights and bias\n",
    "- Adjust the weights by subtracting a small quantity proportional to the gradient\n",
    "- Reset the gradients back to zero"
   ]
  },
  {
   "cell_type": "code",
   "execution_count": 223,
   "metadata": {},
   "outputs": [
    {
     "name": "stdout",
     "output_type": "stream",
     "text": [
      "tensor([[155.1545,  69.2775],\n",
      "        [206.2273,  88.2900],\n",
      "        [232.9442,  92.4068],\n",
      "        [156.6203,  85.4716],\n",
      "        [198.5127,  74.4646]], grad_fn=<AddBackward0>)\n"
     ]
    }
   ],
   "source": [
    "#Generate predictions\n",
    "first__pred = linear_model(inputs)\n",
    "print(first_pred)"
   ]
  },
  {
   "cell_type": "code",
   "execution_count": 224,
   "metadata": {},
   "outputs": [
    {
     "name": "stdout",
     "output_type": "stream",
     "text": [
      "tensor(7188.4844, grad_fn=<DivBackward0>)\n"
     ]
    }
   ],
   "source": [
    "#Calculate loss\n",
    "loss = mse_calculator(first__pred, targets)\n",
    "print(loss)"
   ]
  },
  {
   "cell_type": "code",
   "execution_count": 225,
   "metadata": {},
   "outputs": [
    {
     "name": "stdout",
     "output_type": "stream",
     "text": [
      "tensor([[0.8789, 0.7751, 0.9036],\n",
      "        [0.7219, 0.1678, 0.1189]], requires_grad=True)\n",
      "tensor([0.2075, 0.2309], requires_grad=True)\n"
     ]
    }
   ],
   "source": [
    "print(beta)\n",
    "print(const)"
   ]
  },
  {
   "cell_type": "code",
   "execution_count": 226,
   "metadata": {},
   "outputs": [
    {
     "name": "stdout",
     "output_type": "stream",
     "text": [
      "tensor([[ 9773.7510,  9577.9551,  6110.7593],\n",
      "        [ -573.9607, -1759.5005,  -904.5890]])\n",
      "tensor([227.3836, -20.0358])\n"
     ]
    }
   ],
   "source": [
    "# Compute Gradients\n",
    "loss.backward()\n",
    "print(beta.grad)\n",
    "print(const.grad)"
   ]
  },
  {
   "cell_type": "markdown",
   "metadata": {},
   "source": [
    "- if gradients are positive, we decrease weights to  reduce loss\n",
    "- if gradients are negative we increase weights to reduce loss"
   ]
  },
  {
   "cell_type": "code",
   "execution_count": 227,
   "metadata": {},
   "outputs": [],
   "source": [
    "# Adjust weights and reset gradient to zero\n",
    "with torch.no_grad():\n",
    "    beta -= beta.grad * 0.00005\n",
    "    const -= const.grad * 0.00005\n",
    "    beta.grad.zero_()\n",
    "    const.grad.zero_()"
   ]
  },
  {
   "cell_type": "code",
   "execution_count": 228,
   "metadata": {},
   "outputs": [
    {
     "name": "stdout",
     "output_type": "stream",
     "text": [
      "tensor([[0., 0., 0.],\n",
      "        [0., 0., 0.]])\n",
      "tensor([0., 0.])\n"
     ]
    }
   ],
   "source": [
    "print(beta.grad)\n",
    "print(const.grad)"
   ]
  },
  {
   "cell_type": "markdown",
   "metadata": {},
   "source": [
    " ### Train on Multiple epoch"
   ]
  },
  {
   "cell_type": "code",
   "execution_count": 229,
   "metadata": {},
   "outputs": [],
   "source": [
    "for i in range(200):\n",
    "    first_preds = linear_model(inputs)\n",
    "    loss = mse_calculator(first_preds, targets)\n",
    "    loss.backward()\n",
    "    with torch.no_grad():\n",
    "        beta -= beta.grad * 0.00005\n",
    "        const -= const.grad * 0.00005\n",
    "        beta.grad.zero_()\n",
    "        const.grad.zero_()"
   ]
  },
  {
   "cell_type": "code",
   "execution_count": 230,
   "metadata": {},
   "outputs": [
    {
     "name": "stdout",
     "output_type": "stream",
     "text": [
      "tensor(4.1982, grad_fn=<DivBackward0>)\n"
     ]
    }
   ],
   "source": [
    "# Calculate the loss\n",
    "eval_pred = linear_model(inputs)\n",
    "loss = mse_calculator(eval_pred , targets)\n",
    "print(loss)"
   ]
  },
  {
   "cell_type": "code",
   "execution_count": 231,
   "metadata": {},
   "outputs": [
    {
     "data": {
      "text/plain": [
       "tensor([[ 57.2266,  70.5896],\n",
       "        [ 82.0496,  98.7489],\n",
       "        [118.9526, 136.8778],\n",
       "        [ 21.2340,  38.2128],\n",
       "        [101.5952, 115.1413]], grad_fn=<AddBackward0>)"
      ]
     },
     "execution_count": 231,
     "metadata": {},
     "output_type": "execute_result"
    }
   ],
   "source": [
    "#predictions\n",
    "eval_pred"
   ]
  },
  {
   "cell_type": "code",
   "execution_count": 232,
   "metadata": {},
   "outputs": [
    {
     "data": {
      "text/plain": [
       "tensor([[ 56.,  70.],\n",
       "        [ 81., 101.],\n",
       "        [119., 133.],\n",
       "        [ 22.,  37.],\n",
       "        [103., 119.]])"
      ]
     },
     "execution_count": 232,
     "metadata": {},
     "output_type": "execute_result"
    }
   ],
   "source": [
    "#Targets\n",
    "targets"
   ]
  },
  {
   "cell_type": "markdown",
   "metadata": {},
   "source": [
    "### Commit  Linear_Reg_Notebook"
   ]
  },
  {
   "cell_type": "code",
   "execution_count": 204,
   "metadata": {},
   "outputs": [],
   "source": [
    "import jovian"
   ]
  },
  {
   "cell_type": "code",
   "execution_count": null,
   "metadata": {},
   "outputs": [],
   "source": [
    "jovian.commit()"
   ]
  },
  {
   "cell_type": "code",
   "execution_count": null,
   "metadata": {},
   "outputs": [],
   "source": []
  }
 ],
 "metadata": {
  "kernelspec": {
   "display_name": "Python 3",
   "language": "python",
   "name": "python3"
  },
  "language_info": {
   "codemirror_mode": {
    "name": "ipython",
    "version": 3
   },
   "file_extension": ".py",
   "mimetype": "text/x-python",
   "name": "python",
   "nbconvert_exporter": "python",
   "pygments_lexer": "ipython3",
   "version": "3.7.5"
  }
 },
 "nbformat": 4,
 "nbformat_minor": 4
}
