{
 "cells": [
  {
   "cell_type": "code",
   "execution_count": 94,
   "metadata": {},
   "outputs": [],
   "source": [
    "import pandas as pd\n",
    "import numpy as np\n",
    "import torch\n",
    "import torch.nn as nn\n",
    "import torch.nn.functional as F\n",
    "import matplotlib.pyplot as plt"
   ]
  },
  {
   "cell_type": "markdown",
   "metadata": {},
   "source": [
    "# Generate Data\n",
    "\n",
    "\n",
    "For this example we are using Econometrics data on GDP , CPI and Imports from 1975 - 2005"
   ]
  },
  {
   "cell_type": "code",
   "execution_count": 105,
   "metadata": {},
   "outputs": [],
   "source": [
    "cpi_list = [53.8,56.9,60.6,65.2,72.6,82.4,90.9,96.5,99.6,\n",
    "            103.9,107.6,109.6,113.6,118.3,124.0,130.7,136.2,140.3,144.5,148.2,\n",
    "            152.4,156.9,160.5,163.0,166.6,172.2,177.1,179.9,184.0,188.9,195.3]\n",
    "\n",
    "GDP_list = [1638.3,1825.3,2023.9,2294.7,2563.3,2789.5,3128.4,3225.0,3536.7,3933.2,4220.3,\n",
    "            4462.8,4739.5,5103.8,5484.4,5803.1,5995.9,6337.7,6657.4,7072.2,7397.7,7816.9,8304.3,\n",
    "            8747.0,9268.4,9817.0,10128.0,10469.6,10960.8,11712.5,12455.8]\n",
    "\n",
    "imports_list = [98185,124228,151907,176002,212007,249750,265067,247642,268901,332418,\n",
    "                338088,368425,409765,447189,477665,498438,491020,536528,589394,668690,749374,\n",
    "                803113,876470,917103,1029980,1224408,1145900,1164720,1260717,1472926,1677371]\n",
    "\n",
    "data = pd.DataFrame({'CPI':cpi_list ,'GDP':GDP_list , 'Imports':imports_list} , index = [i for i in range(1975,2006)])"
   ]
  },
  {
   "cell_type": "code",
   "execution_count": 106,
   "metadata": {},
   "outputs": [
    {
     "data": {
      "text/html": [
       "<div>\n",
       "<style scoped>\n",
       "    .dataframe tbody tr th:only-of-type {\n",
       "        vertical-align: middle;\n",
       "    }\n",
       "\n",
       "    .dataframe tbody tr th {\n",
       "        vertical-align: top;\n",
       "    }\n",
       "\n",
       "    .dataframe thead th {\n",
       "        text-align: right;\n",
       "    }\n",
       "</style>\n",
       "<table border=\"1\" class=\"dataframe\">\n",
       "  <thead>\n",
       "    <tr style=\"text-align: right;\">\n",
       "      <th></th>\n",
       "      <th>CPI</th>\n",
       "      <th>GDP</th>\n",
       "      <th>Imports</th>\n",
       "    </tr>\n",
       "  </thead>\n",
       "  <tbody>\n",
       "    <tr>\n",
       "      <th>1975</th>\n",
       "      <td>53.8</td>\n",
       "      <td>1638.3</td>\n",
       "      <td>98185</td>\n",
       "    </tr>\n",
       "    <tr>\n",
       "      <th>1976</th>\n",
       "      <td>56.9</td>\n",
       "      <td>1825.3</td>\n",
       "      <td>124228</td>\n",
       "    </tr>\n",
       "    <tr>\n",
       "      <th>1977</th>\n",
       "      <td>60.6</td>\n",
       "      <td>2023.9</td>\n",
       "      <td>151907</td>\n",
       "    </tr>\n",
       "    <tr>\n",
       "      <th>1978</th>\n",
       "      <td>65.2</td>\n",
       "      <td>2294.7</td>\n",
       "      <td>176002</td>\n",
       "    </tr>\n",
       "    <tr>\n",
       "      <th>1979</th>\n",
       "      <td>72.6</td>\n",
       "      <td>2563.3</td>\n",
       "      <td>212007</td>\n",
       "    </tr>\n",
       "    <tr>\n",
       "      <th>1980</th>\n",
       "      <td>82.4</td>\n",
       "      <td>2789.5</td>\n",
       "      <td>249750</td>\n",
       "    </tr>\n",
       "    <tr>\n",
       "      <th>1981</th>\n",
       "      <td>90.9</td>\n",
       "      <td>3128.4</td>\n",
       "      <td>265067</td>\n",
       "    </tr>\n",
       "    <tr>\n",
       "      <th>1982</th>\n",
       "      <td>96.5</td>\n",
       "      <td>3225.0</td>\n",
       "      <td>247642</td>\n",
       "    </tr>\n",
       "    <tr>\n",
       "      <th>1983</th>\n",
       "      <td>99.6</td>\n",
       "      <td>3536.7</td>\n",
       "      <td>268901</td>\n",
       "    </tr>\n",
       "    <tr>\n",
       "      <th>1984</th>\n",
       "      <td>103.9</td>\n",
       "      <td>3933.2</td>\n",
       "      <td>332418</td>\n",
       "    </tr>\n",
       "    <tr>\n",
       "      <th>1985</th>\n",
       "      <td>107.6</td>\n",
       "      <td>4220.3</td>\n",
       "      <td>338088</td>\n",
       "    </tr>\n",
       "    <tr>\n",
       "      <th>1986</th>\n",
       "      <td>109.6</td>\n",
       "      <td>4462.8</td>\n",
       "      <td>368425</td>\n",
       "    </tr>\n",
       "    <tr>\n",
       "      <th>1987</th>\n",
       "      <td>113.6</td>\n",
       "      <td>4739.5</td>\n",
       "      <td>409765</td>\n",
       "    </tr>\n",
       "    <tr>\n",
       "      <th>1988</th>\n",
       "      <td>118.3</td>\n",
       "      <td>5103.8</td>\n",
       "      <td>447189</td>\n",
       "    </tr>\n",
       "    <tr>\n",
       "      <th>1989</th>\n",
       "      <td>124.0</td>\n",
       "      <td>5484.4</td>\n",
       "      <td>477665</td>\n",
       "    </tr>\n",
       "    <tr>\n",
       "      <th>1990</th>\n",
       "      <td>130.7</td>\n",
       "      <td>5803.1</td>\n",
       "      <td>498438</td>\n",
       "    </tr>\n",
       "    <tr>\n",
       "      <th>1991</th>\n",
       "      <td>136.2</td>\n",
       "      <td>5995.9</td>\n",
       "      <td>491020</td>\n",
       "    </tr>\n",
       "    <tr>\n",
       "      <th>1992</th>\n",
       "      <td>140.3</td>\n",
       "      <td>6337.7</td>\n",
       "      <td>536528</td>\n",
       "    </tr>\n",
       "    <tr>\n",
       "      <th>1993</th>\n",
       "      <td>144.5</td>\n",
       "      <td>6657.4</td>\n",
       "      <td>589394</td>\n",
       "    </tr>\n",
       "    <tr>\n",
       "      <th>1994</th>\n",
       "      <td>148.2</td>\n",
       "      <td>7072.2</td>\n",
       "      <td>668690</td>\n",
       "    </tr>\n",
       "    <tr>\n",
       "      <th>1995</th>\n",
       "      <td>152.4</td>\n",
       "      <td>7397.7</td>\n",
       "      <td>749374</td>\n",
       "    </tr>\n",
       "    <tr>\n",
       "      <th>1996</th>\n",
       "      <td>156.9</td>\n",
       "      <td>7816.9</td>\n",
       "      <td>803113</td>\n",
       "    </tr>\n",
       "    <tr>\n",
       "      <th>1997</th>\n",
       "      <td>160.5</td>\n",
       "      <td>8304.3</td>\n",
       "      <td>876470</td>\n",
       "    </tr>\n",
       "    <tr>\n",
       "      <th>1998</th>\n",
       "      <td>163.0</td>\n",
       "      <td>8747.0</td>\n",
       "      <td>917103</td>\n",
       "    </tr>\n",
       "    <tr>\n",
       "      <th>1999</th>\n",
       "      <td>166.6</td>\n",
       "      <td>9268.4</td>\n",
       "      <td>1029980</td>\n",
       "    </tr>\n",
       "    <tr>\n",
       "      <th>2000</th>\n",
       "      <td>172.2</td>\n",
       "      <td>9817.0</td>\n",
       "      <td>1224408</td>\n",
       "    </tr>\n",
       "    <tr>\n",
       "      <th>2001</th>\n",
       "      <td>177.1</td>\n",
       "      <td>10128.0</td>\n",
       "      <td>1145900</td>\n",
       "    </tr>\n",
       "    <tr>\n",
       "      <th>2002</th>\n",
       "      <td>179.9</td>\n",
       "      <td>10469.6</td>\n",
       "      <td>1164720</td>\n",
       "    </tr>\n",
       "    <tr>\n",
       "      <th>2003</th>\n",
       "      <td>184.0</td>\n",
       "      <td>10960.8</td>\n",
       "      <td>1260717</td>\n",
       "    </tr>\n",
       "    <tr>\n",
       "      <th>2004</th>\n",
       "      <td>188.9</td>\n",
       "      <td>11712.5</td>\n",
       "      <td>1472926</td>\n",
       "    </tr>\n",
       "    <tr>\n",
       "      <th>2005</th>\n",
       "      <td>195.3</td>\n",
       "      <td>12455.8</td>\n",
       "      <td>1677371</td>\n",
       "    </tr>\n",
       "  </tbody>\n",
       "</table>\n",
       "</div>"
      ],
      "text/plain": [
       "        CPI      GDP  Imports\n",
       "1975   53.8   1638.3    98185\n",
       "1976   56.9   1825.3   124228\n",
       "1977   60.6   2023.9   151907\n",
       "1978   65.2   2294.7   176002\n",
       "1979   72.6   2563.3   212007\n",
       "1980   82.4   2789.5   249750\n",
       "1981   90.9   3128.4   265067\n",
       "1982   96.5   3225.0   247642\n",
       "1983   99.6   3536.7   268901\n",
       "1984  103.9   3933.2   332418\n",
       "1985  107.6   4220.3   338088\n",
       "1986  109.6   4462.8   368425\n",
       "1987  113.6   4739.5   409765\n",
       "1988  118.3   5103.8   447189\n",
       "1989  124.0   5484.4   477665\n",
       "1990  130.7   5803.1   498438\n",
       "1991  136.2   5995.9   491020\n",
       "1992  140.3   6337.7   536528\n",
       "1993  144.5   6657.4   589394\n",
       "1994  148.2   7072.2   668690\n",
       "1995  152.4   7397.7   749374\n",
       "1996  156.9   7816.9   803113\n",
       "1997  160.5   8304.3   876470\n",
       "1998  163.0   8747.0   917103\n",
       "1999  166.6   9268.4  1029980\n",
       "2000  172.2   9817.0  1224408\n",
       "2001  177.1  10128.0  1145900\n",
       "2002  179.9  10469.6  1164720\n",
       "2003  184.0  10960.8  1260717\n",
       "2004  188.9  11712.5  1472926\n",
       "2005  195.3  12455.8  1677371"
      ]
     },
     "execution_count": 106,
     "metadata": {},
     "output_type": "execute_result"
    }
   ],
   "source": [
    "data"
   ]
  },
  {
   "cell_type": "code",
   "execution_count": 107,
   "metadata": {},
   "outputs": [],
   "source": [
    "'''\n",
    "Reading_a_stata_file\n",
    "df = pd.read_stata('')\n",
    "\n",
    "Saving into a csv or any other file into stata fille by changing the extension into .dta\n",
    "\n",
    "df.to_stata('my_data_out.dta')\n",
    "\n",
    "saving econometrics data output\n",
    "'''\n",
    "\n",
    "data.to_stata('homework_data_full.dta')"
   ]
  },
  {
   "cell_type": "code",
   "execution_count": 91,
   "metadata": {},
   "outputs": [
    {
     "ename": "FileNotFoundError",
     "evalue": "[Errno 2] No such file or directory: 'C:/Users/CoderZzyzx/Desktop/UNTIL MAY 30TH/All things Data S and AI/PyTorch/my_data_in.dta'",
     "output_type": "error",
     "traceback": [
      "\u001b[1;31m--------------------------------------------------------------------\u001b[0m",
      "\u001b[1;31mFileNotFoundError\u001b[0m                  Traceback (most recent call last)",
      "\u001b[1;32m<ipython-input-91-3047e1cb8b9d>\u001b[0m in \u001b[0;36m<module>\u001b[1;34m\u001b[0m\n\u001b[1;32m----> 1\u001b[1;33m \u001b[0mpd\u001b[0m\u001b[1;33m.\u001b[0m\u001b[0mread_stata\u001b[0m\u001b[1;33m(\u001b[0m\u001b[1;34m'C:/Users/CoderZzyzx/Desktop/UNTIL MAY 30TH/All things Data S and AI/PyTorch/my_data_in.dta'\u001b[0m\u001b[1;33m)\u001b[0m\u001b[1;33m\u001b[0m\u001b[1;33m\u001b[0m\u001b[0m\n\u001b[0m",
      "\u001b[1;32mc:\\users\\coderzzyzx\\appdata\\local\\programs\\python\\python37\\lib\\site-packages\\pandas\\io\\stata.py\u001b[0m in \u001b[0;36mread_stata\u001b[1;34m(filepath_or_buffer, convert_dates, convert_categoricals, index_col, convert_missing, preserve_dtypes, columns, order_categoricals, chunksize, iterator)\u001b[0m\n\u001b[0;32m    184\u001b[0m         \u001b[0mcolumns\u001b[0m\u001b[1;33m=\u001b[0m\u001b[0mcolumns\u001b[0m\u001b[1;33m,\u001b[0m\u001b[1;33m\u001b[0m\u001b[1;33m\u001b[0m\u001b[0m\n\u001b[0;32m    185\u001b[0m         \u001b[0morder_categoricals\u001b[0m\u001b[1;33m=\u001b[0m\u001b[0morder_categoricals\u001b[0m\u001b[1;33m,\u001b[0m\u001b[1;33m\u001b[0m\u001b[1;33m\u001b[0m\u001b[0m\n\u001b[1;32m--> 186\u001b[1;33m         \u001b[0mchunksize\u001b[0m\u001b[1;33m=\u001b[0m\u001b[0mchunksize\u001b[0m\u001b[1;33m,\u001b[0m\u001b[1;33m\u001b[0m\u001b[1;33m\u001b[0m\u001b[0m\n\u001b[0m\u001b[0;32m    187\u001b[0m     )\n\u001b[0;32m    188\u001b[0m \u001b[1;33m\u001b[0m\u001b[0m\n",
      "\u001b[1;32mc:\\users\\coderzzyzx\\appdata\\local\\programs\\python\\python37\\lib\\site-packages\\pandas\\io\\stata.py\u001b[0m in \u001b[0;36m__init__\u001b[1;34m(self, path_or_buf, convert_dates, convert_categoricals, index_col, convert_missing, preserve_dtypes, columns, order_categoricals, chunksize)\u001b[0m\n\u001b[0;32m   1048\u001b[0m \u001b[1;33m\u001b[0m\u001b[0m\n\u001b[0;32m   1049\u001b[0m         \u001b[1;32mif\u001b[0m \u001b[0misinstance\u001b[0m\u001b[1;33m(\u001b[0m\u001b[0mpath_or_buf\u001b[0m\u001b[1;33m,\u001b[0m \u001b[1;33m(\u001b[0m\u001b[0mstr\u001b[0m\u001b[1;33m,\u001b[0m \u001b[0mbytes\u001b[0m\u001b[1;33m)\u001b[0m\u001b[1;33m)\u001b[0m\u001b[1;33m:\u001b[0m\u001b[1;33m\u001b[0m\u001b[1;33m\u001b[0m\u001b[0m\n\u001b[1;32m-> 1050\u001b[1;33m             \u001b[0mself\u001b[0m\u001b[1;33m.\u001b[0m\u001b[0mpath_or_buf\u001b[0m \u001b[1;33m=\u001b[0m \u001b[0mopen\u001b[0m\u001b[1;33m(\u001b[0m\u001b[0mpath_or_buf\u001b[0m\u001b[1;33m,\u001b[0m \u001b[1;34m\"rb\"\u001b[0m\u001b[1;33m)\u001b[0m\u001b[1;33m\u001b[0m\u001b[1;33m\u001b[0m\u001b[0m\n\u001b[0m\u001b[0;32m   1051\u001b[0m         \u001b[1;32melse\u001b[0m\u001b[1;33m:\u001b[0m\u001b[1;33m\u001b[0m\u001b[1;33m\u001b[0m\u001b[0m\n\u001b[0;32m   1052\u001b[0m             \u001b[1;31m# Copy to BytesIO, and ensure no encoding\u001b[0m\u001b[1;33m\u001b[0m\u001b[1;33m\u001b[0m\u001b[1;33m\u001b[0m\u001b[0m\n",
      "\u001b[1;31mFileNotFoundError\u001b[0m: [Errno 2] No such file or directory: 'C:/Users/CoderZzyzx/Desktop/UNTIL MAY 30TH/All things Data S and AI/PyTorch/my_data_in.dta'"
     ]
    }
   ],
   "source": [
    "#pd.read_stata('C:/Users/CoderZzyzx/Desktop/UNTIL MAY 30TH/All things Data S and AI/PyTorch/my_data_in.dta')"
   ]
  },
  {
   "cell_type": "markdown",
   "metadata": {},
   "source": [
    "# Generate X and Y for model\n",
    "\n",
    "generate x and y features as numpy arrays and convert into tensors. afterwards pass into TensorDataset and Dataloader to split into batches and shuffle"
   ]
  },
  {
   "cell_type": "code",
   "execution_count": 3,
   "metadata": {},
   "outputs": [],
   "source": [
    "#X and y tensor data\n",
    "'''\n",
    "X = torch.tensor(data.loc[: , 'CPI':'GDP'].to_numpy() , dtype=torch.float64)\n",
    "y = torch.tensor(data.loc[: , 'Imports'].to_numpy().reshape(-1,1) , dtype=torch.float64)\n",
    "'''\n",
    "\n",
    "X = torch.tensor(data[['CPI','GDP']].values , dtype=torch.float32)\n",
    "y = torch.tensor(data[['Imports']].values , dtype=torch.float32)"
   ]
  },
  {
   "cell_type": "code",
   "execution_count": 63,
   "metadata": {},
   "outputs": [],
   "source": [
    "#define train dataset and train_ dataloader\n",
    "from torch.utils.data import TensorDataset , DataLoader, random_split\n",
    "full_dataset = TensorDataset(X,y)\n",
    "\n",
    "#random split into train and validation set \n",
    "train_ds, val_ds = random_split(full_dataset, [20, 11])\n",
    "\n",
    "chosen_batch=5\n",
    "train_loader = DataLoader(train_ds, chosen_batch, shuffle=True)\n",
    "val_loader = DataLoader(val_ds, chosen_batch*2)\n",
    "\n",
    "input_size=2\n",
    "output_size = 1\n",
    "\n",
    "learning_rate= 5"
   ]
  },
  {
   "cell_type": "markdown",
   "metadata": {},
   "source": [
    "# Define Linear Regression Model\n",
    "\n",
    "In this trial we will be exploring neural network linear regression model's( nn.Linear()) and specify number of weights/beta's and constants/bias "
   ]
  },
  {
   "cell_type": "code",
   "execution_count": 64,
   "metadata": {},
   "outputs": [
    {
     "name": "stdout",
     "output_type": "stream",
     "text": [
      "Parameter containing:\n",
      "tensor([[-0.4727,  0.1845]], requires_grad=True)\n",
      "Parameter containing:\n",
      "tensor([-0.5342], requires_grad=True)\n"
     ]
    }
   ],
   "source": [
    "lin_model = nn.Linear(2 , 1)\n",
    "print(lin_model.weight)\n",
    "print(lin_model.bias)"
   ]
  },
  {
   "cell_type": "code",
   "execution_count": 65,
   "metadata": {},
   "outputs": [
    {
     "data": {
      "text/plain": [
       "[Parameter containing:\n",
       " tensor([[-0.4727,  0.1845]], requires_grad=True),\n",
       " Parameter containing:\n",
       " tensor([-0.5342], requires_grad=True)]"
      ]
     },
     "execution_count": 65,
     "metadata": {},
     "output_type": "execute_result"
    }
   ],
   "source": [
    "#check Parameters\n",
    "list(lin_model.parameters())"
   ]
  },
  {
   "cell_type": "code",
   "execution_count": 66,
   "metadata": {},
   "outputs": [],
   "source": [
    "#generate predictions with unfitted model\n",
    "unfitted_pred = lin_model(X)"
   ]
  },
  {
   "cell_type": "code",
   "execution_count": 67,
   "metadata": {},
   "outputs": [
    {
     "data": {
      "text/plain": [
       "'\\n#Generate predictions\\npred = lin_model(X)\\n\\n#Calculate loss\\nloss=loss_fn(pred , y)\\n\\n\\n#Compute gradients\\nloss.backward()\\n\\n#update model parameters\\noptimizer.step()\\n\\n#Reset model parameters to zero\\noptimizer.zero_grad()\\n\\n#Recalculate predictions\\nnew_pred = lin_model(X)\\n\\n#Calculate loss\\nloss=loss_fn(new_pred , y)\\n'"
      ]
     },
     "execution_count": 67,
     "metadata": {},
     "output_type": "execute_result"
    }
   ],
   "source": [
    "'''\n",
    "#Generate predictions\n",
    "pred = lin_model(X)\n",
    "\n",
    "#Calculate loss\n",
    "loss=loss_fn(pred , y)\n",
    "\n",
    "\n",
    "#Compute gradients\n",
    "loss.backward()\n",
    "\n",
    "#update model parameters\n",
    "optimizer.step()\n",
    "\n",
    "#Reset model parameters to zero\n",
    "optimizer.zero_grad()\n",
    "\n",
    "#Recalculate predictions\n",
    "new_pred = lin_model(X)\n",
    "\n",
    "#Calculate loss\n",
    "loss=loss_fn(new_pred , y)\n",
    "'''"
   ]
  },
  {
   "cell_type": "markdown",
   "metadata": {},
   "source": [
    "# Define Loss function\n",
    " we will be using nn.functional.mse , that is the mean_squarred_error for"
   ]
  },
  {
   "cell_type": "code",
   "execution_count": 68,
   "metadata": {},
   "outputs": [],
   "source": [
    "loss_fn = F.mse_loss"
   ]
  },
  {
   "cell_type": "markdown",
   "metadata": {},
   "source": [
    "# Optimizer\n",
    "\n",
    "we will use the optim.SGD that is the Stochastic Gradient Descent and spcify ,opd"
   ]
  },
  {
   "cell_type": "code",
   "execution_count": 69,
   "metadata": {},
   "outputs": [],
   "source": [
    "optimizer = torch.optim.SGD(lin_model.parameters(), lr=0.5)"
   ]
  },
  {
   "cell_type": "markdown",
   "metadata": {},
   "source": [
    "# Training Function"
   ]
  },
  {
   "cell_type": "code",
   "execution_count": 70,
   "metadata": {},
   "outputs": [],
   "source": [
    "class HousingModel(nn.Module):\n",
    "    def __init__(self):\n",
    "        super().__init__()\n",
    "        self.linear = nn.Linear(input_size, output_size)\n",
    "        \n",
    "    def forward(self, xb):\n",
    "        out = self.linear(xb)\n",
    "        return out\n",
    "    \n",
    "    def training_step(self, batch):\n",
    "        inputs, targets = batch \n",
    "        out = self(inputs)                 # Generate predictions\n",
    "        loss = F.mse_loss(out, targets)    # Calculate loss\n",
    "        return loss\n",
    "    \n",
    "    def validation_step(self, batch):\n",
    "        inputs, targets = batch \n",
    "        out = self(inputs)                 # Generate predictions\n",
    "        loss = F.mse_loss(out, targets)    # Calculate loss\n",
    "        return {'val_loss': loss.detach()}\n",
    "        \n",
    "    def validation_epoch_end(self, outputs):\n",
    "        batch_losses = [x['val_loss'] for x in outputs]\n",
    "        epoch_loss = torch.stack(batch_losses).mean()   # Combine losses\n",
    "        return {'val_loss': epoch_loss.item()}\n",
    "    \n",
    "    def epoch_end(self, epoch, result):\n",
    "        print(\"Epoch [{}], val_loss: {:.4f}\".format(epoch, result['val_loss']))\n",
    "    \n",
    "model = HousingModel()"
   ]
  },
  {
   "cell_type": "markdown",
   "metadata": {},
   "source": [
    "# Training"
   ]
  },
  {
   "cell_type": "code",
   "execution_count": 71,
   "metadata": {},
   "outputs": [],
   "source": [
    "def evaluate(model, val_loader):\n",
    "    outputs = [model.validation_step(batch) for batch in val_loader]\n",
    "    return model.validation_epoch_end(outputs)\n",
    "\n",
    "def fit(epochs, lr, model, train_loader, val_loader, opt_func=torch.optim.SGD):\n",
    "    history = []\n",
    "    optimizer = opt_func(model.parameters(), lr)\n",
    "    for epoch in range(epochs):\n",
    "        # Training Phase \n",
    "        for batch in train_loader:\n",
    "            loss = model.training_step(batch)\n",
    "            loss.backward()\n",
    "            optimizer.step()\n",
    "            optimizer.zero_grad()\n",
    "        # Validation phase\n",
    "        result = evaluate(model, val_loader)\n",
    "        model.epoch_end(epoch, result)\n",
    "        history.append(result)\n",
    "    return history"
   ]
  },
  {
   "cell_type": "code",
   "execution_count": 72,
   "metadata": {},
   "outputs": [
    {
     "data": {
      "text/plain": [
       "{'val_loss': 338868961280.0}"
      ]
     },
     "execution_count": 72,
     "metadata": {},
     "output_type": "execute_result"
    }
   ],
   "source": [
    "result = evaluate(model, val_loader)\n",
    "result"
   ]
  },
  {
   "cell_type": "code",
   "execution_count": 62,
   "metadata": {},
   "outputs": [
    {
     "name": "stdout",
     "output_type": "stream",
     "text": [
      "Epoch [0], val_loss: inf\n",
      "Epoch [1], val_loss: nan\n",
      "Epoch [2], val_loss: nan\n",
      "Epoch [3], val_loss: nan\n"
     ]
    }
   ],
   "source": [
    "history = fit(4, learning_rate, model, train_loader, val_loader)"
   ]
  },
  {
   "cell_type": "code",
   "execution_count": 17,
   "metadata": {},
   "outputs": [
    {
     "data": {
      "image/png": "[encoded data removed]",
      "text/plain": [
       "<Figure size 432x288 with 1 Axes>"
      ]
     },
     "metadata": {
      "needs_background": "light"
     },
     "output_type": "display_data"
    }
   ],
   "source": [
    "losses = [r['val_loss'] for r in [result] + history]\n",
    "plt.plot(losses, '-x')\n",
    "plt.xlabel('epoch')\n",
    "plt.ylabel('val_loss')\n",
    "plt.title('val_loss vs. epochs');"
   ]
  },
  {
   "cell_type": "markdown",
   "metadata": {},
   "source": [
    "# Predictions"
   ]
  },
  {
   "cell_type": "code",
   "execution_count": 18,
   "metadata": {},
   "outputs": [],
   "source": [
    "def predict_single(x, model):\n",
    "    xb = x.unsqueeze(0)\n",
    "    return model(x).item()"
   ]
  },
  {
   "cell_type": "code",
   "execution_count": 22,
   "metadata": {},
   "outputs": [
    {
     "name": "stdout",
     "output_type": "stream",
     "text": [
      "Input:  tensor([ 144.5000, 6657.3999])\n",
      "Target:  589394.0\n",
      "Prediction: nan\n"
     ]
    }
   ],
   "source": [
    "x, target = val_ds[1]\n",
    "pred = predict_single(x, model)\n",
    "print(\"Input: \", x)\n",
    "print(\"Target: \", target.item())\n",
    "print(\"Prediction:\", pred)"
   ]
  },
  {
   "cell_type": "code",
   "execution_count": 28,
   "metadata": {},
   "outputs": [
    {
     "data": {
      "text/plain": [
       "tensor([nan], grad_fn=<AddBackward0>)"
      ]
     },
     "execution_count": 28,
     "metadata": {},
     "output_type": "execute_result"
    }
   ],
   "source": [
    "model(xx)"
   ]
  },
  {
   "cell_type": "code",
   "execution_count": 26,
   "metadata": {},
   "outputs": [
    {
     "data": {
      "text/plain": [
       "tensor(nan, grad_fn=<MseLossBackward>)"
      ]
     },
     "execution_count": 26,
     "metadata": {},
     "output_type": "execute_result"
    }
   ],
   "source": [
    "xx , yy = val_ds[0]\n",
    "\n",
    "pred = model(xx)\n",
    "\n",
    "loss_fn(pred, yy)"
   ]
  },
  {
   "cell_type": "markdown",
   "metadata": {},
   "source": [
    "# Save model"
   ]
  },
  {
   "cell_type": "code",
   "execution_count": 77,
   "metadata": {},
   "outputs": [],
   "source": [
    "torch.save(model.state_dict(), 'cpi-imports-model.pth')"
   ]
  },
  {
   "cell_type": "code",
   "execution_count": 78,
   "metadata": {},
   "outputs": [],
   "source": [
    "import jovian"
   ]
  },
  {
   "cell_type": "code",
   "execution_count": 81,
   "metadata": {},
   "outputs": [
    {
     "data": {
      "application/javascript": [
       "window.require && require([\"base/js/namespace\"],function(Jupyter){Jupyter.notebook.save_checkpoint()})"
      ],
      "text/plain": [
       "<IPython.core.display.Javascript object>"
      ]
     },
     "metadata": {},
     "output_type": "display_data"
    },
    {
     "name": "stdout",
     "output_type": "stream",
     "text": [
      "[jovian] Attempting to save notebook..\n",
      "[jovian] Creating a new project \"troublem1/Econometrics_data_with_pytorch_Linear_reg\"\n",
      "[jovian] Uploading notebook..\n",
      "[jovian] Uploading additional outputs...\n"
     ]
    },
    {
     "name": "stderr",
     "output_type": "stream",
     "text": [
      "[jovian] Error: Ignoring \"Econometrics_data_with_pytorch_Linear_reg.pth\" (not found)\r\n"
     ]
    },
    {
     "name": "stdout",
     "output_type": "stream",
     "text": [
      "[jovian] Committed successfully! https://jovian.ml/troublem1/econometrics-data-with-pytorch-linear-reg\r\n"
     ]
    },
    {
     "data": {
      "application/javascript": [
       "window.require && require([\"base/js/namespace\"],function(Jupyter){Jupyter.notebook.save_checkpoint()})"
      ],
      "text/plain": [
       "<IPython.core.display.Javascript object>"
      ]
     },
     "metadata": {},
     "output_type": "display_data"
    },
    {
     "name": "stdout",
     "output_type": "stream",
     "text": [
      "[jovian] Attempting to save notebook..\n",
      "[jovian] Updating notebook \"troublem1/econometrics-data-with-pytorch-linear-reg\" on https://jovian.ml/\n",
      "[jovian] Uploading notebook..\n",
      "[jovian] Uploading additional outputs...\n"
     ]
    },
    {
     "name": "stderr",
     "output_type": "stream",
     "text": [
      "[jovian] Error: Ignoring \"Econometrics_data_with_pytorch_Linear_reg.pth\" (not found)\r\n"
     ]
    },
    {
     "name": "stdout",
     "output_type": "stream",
     "text": [
      "[jovian] Committed successfully! https://jovian.ml/troublem1/econometrics-data-with-pytorch-linear-reg\r\n"
     ]
    },
    {
     "data": {
      "text/plain": [
       "'https://jovian.ml/troublem1/econometrics-data-with-pytorch-linear-reg'"
      ]
     },
     "execution_count": 81,
     "metadata": {},
     "output_type": "execute_result"
    }
   ],
   "source": [
    "jovian.commit(project='Econometrics_data_with_pytorch_Linear_reg', environment=None, outputs=['Econometrics_data_with_pytorch_Linear_reg.pth'])\n",
    "jovian.commit(project='Econometrics_data_with_pytorch_Linear_reg', environment=None, outputs=['Econometrics_data_with_pytorch_Linear_reg.pth']) # Kaggle commit fails sometimes, so try again.."
   ]
  },
  {
   "cell_type": "code",
   "execution_count": null,
   "metadata": {},
   "outputs": [],
   "source": []
  }
 ],
 "metadata": {
  "kernelspec": {
   "display_name": "Python 3",
   "language": "python",
   "name": "python3"
  },
  "language_info": {
   "codemirror_mode": {
    "name": "ipython",
    "version": 3
   },
   "file_extension": ".py",
   "mimetype": "text/x-python",
   "name": "python",
   "nbconvert_exporter": "python",
   "pygments_lexer": "ipython3",
   "version": "3.7.5"
  }
 },
 "nbformat": 4,
 "nbformat_minor": 4
}
